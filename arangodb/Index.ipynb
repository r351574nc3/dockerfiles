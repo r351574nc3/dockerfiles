{
 "cells": [
  {
   "cell_type": "markdown",
   "metadata": {},
   "source": [
    "# Arango DB \n",
    "----\n",
    "Arango is a graph database system. These are instructions on its usage. It can be run directly out of a dockerfile for quickly creating graphs. "
   ]
  },
  {
   "cell_type": "markdown",
   "metadata": {},
   "source": [
    "## Usage\n"
   ]
  },
  {
   "cell_type": "markdown",
   "metadata": {},
   "source": [
    "### Building"
   ]
  },
  {
   "cell_type": "code",
   "execution_count": 1,
   "metadata": {},
   "outputs": [],
   "source": [
    "!docker build -t argodb:3.5.2 ."
   ]
  },
  {
   "cell_type": "markdown",
   "metadata": {},
   "source": [
    "### Running"
   ]
  },
  {
   "cell_type": "code",
   "execution_count": 2,
   "metadata": {},
   "outputs": [
    {
     "name": "stdout",
     "output_type": "stream",
     "text": [
      "automatically choosing storage engine\n",
      "Initializing root user...Hang on...\n",
      "2019-11-20T05:04:38Z [7] INFO [a1c60] {syscall} file-descriptors (nofiles) hard limit is 1048576, soft limit is 1048576\n",
      "2019-11-20T05:04:39Z [7] INFO [7da27] {startup} server will now shut down due to upgrade, database initialization or admin restoration.\n",
      "Initializing database...Hang on...\n",
      "Database initialized...Starting System...\n",
      "2019-11-20T05:04:45Z [1] INFO [e52b0] ArangoDB 3.5.2 [linux] 64bit, using jemalloc, build tags/v3.5.2-0-gec4166527e, VPack 0.1.33, RocksDB 6.2.0, ICU 58.1, V8 7.1.302.28, OpenSSL 1.1.1d  10 Sep 2019\n",
      "2019-11-20T05:04:45Z [1] INFO [75ddc] detected operating system: Linux version 5.2.0-kali2-amd64 (devel@kali.org) (gcc version 8.3.0 (Debian 8.3.0-19)) #1 SMP Debian 5.2.9-2kali1 (2019-08-22)\n",
      "2019-11-20T05:04:45Z [1] WARNING [118b0] {memory} maximum number of memory mappings per process is 65530, which seems too low. it is recommended to set it to at least 512000\n",
      "2019-11-20T05:04:45Z [1] WARNING [49528] {memory} execute 'sudo sysctl -w \"vm.max_map_count=512000\"'\n",
      "2019-11-20T05:04:45Z [1] WARNING [e8b68] {memory} /sys/kernel/mm/transparent_hugepage/enabled is set to 'always'. It is recommended to set it to a value of 'never' or 'madvise'\n",
      "2019-11-20T05:04:45Z [1] WARNING [f3108] {memory} execute 'sudo bash -c \"echo madvise > /sys/kernel/mm/transparent_hugepage/enabled\"'\n",
      "2019-11-20T05:04:45Z [1] WARNING [f3108] {memory} execute 'sudo bash -c \"echo madvise > /sys/kernel/mm/transparent_hugepage/defrag\"'\n",
      "2019-11-20T05:04:45Z [1] INFO [43396] {authentication} Jwt secret not specified, generating...\n",
      "2019-11-20T05:04:45Z [1] INFO [144fe] using storage engine rocksdb\n",
      "2019-11-20T05:04:45Z [1] INFO [3bb7d] {cluster} Starting up with role SINGLE\n",
      "2019-11-20T05:04:45Z [1] INFO [a1c60] {syscall} file-descriptors (nofiles) hard limit is 1048576, soft limit is 1048576\n",
      "2019-11-20T05:04:45Z [1] INFO [3844e] {authentication} Authentication is turned on (system only), authentication for unix sockets is turned on\n",
      "2019-11-20T05:04:46Z [1] INFO [6ea38] using endpoint 'http+tcp://0.0.0.0:8529' for non-encrypted requests\n",
      "2019-11-20T05:04:46Z [1] INFO [cf3f4] ArangoDB (version 3.5.2 [linux]) is ready for business. Have fun!\n"
     ]
    }
   ],
   "source": [
    "!docker run -p 8529:8529 -e ARANGO_ROOT_PASSWORD=openSesame arangodb:3.5.2"
   ]
  },
  {
   "cell_type": "code",
   "execution_count": null,
   "metadata": {},
   "outputs": [],
   "source": []
  }
 ],
 "metadata": {
  "file_extension": ".py",
  "kernelspec": {
   "display_name": "Python 3",
   "language": "python",
   "name": "python3"
  },
  "language_info": {
   "codemirror_mode": {
    "name": "ipython",
    "version": 3
   },
   "file_extension": ".py",
   "mimetype": "text/x-python",
   "name": "python",
   "nbconvert_exporter": "python",
   "pygments_lexer": "ipython3",
   "version": "3.7.5"
  },
  "mimetype": "text/x-python",
  "name": "python",
  "npconvert_exporter": "python",
  "pygments_lexer": "ipython3",
  "version": 3
 },
 "nbformat": 4,
 "nbformat_minor": 4
}
